{
 "cells": [
  {
   "cell_type": "code",
   "execution_count": 53,
   "metadata": {},
   "outputs": [
    {
     "name": "stdout",
     "output_type": "stream",
     "text": [
      "-- Comenzamos el juego --\n",
      "-|-|-\n",
      "-|-|-\n",
      "-|-|-\n",
      "Introduce tu caracter (x/o) y la posición de la fila y la columna separados por coma\n",
      "La usuaria dio el input x 1,2\n"
     ]
    },
    {
     "ename": "AttributeError",
     "evalue": "'tuple' object has no attribute 'split'",
     "output_type": "error",
     "traceback": [
      "\u001b[0;31m---------------------------------------------------------------------------\u001b[0m",
      "\u001b[0;31mAttributeError\u001b[0m                            Traceback (most recent call last)",
      "\u001b[0;32m/var/folders/4t/jwz4fg1j3ps9fv1187b_jzr40000gn/T/ipykernel_49413/1715983337.py\u001b[0m in \u001b[0;36m<module>\u001b[0;34m\u001b[0m\n\u001b[1;32m     46\u001b[0m \u001b[0;34m\u001b[0m\u001b[0m\n\u001b[1;32m     47\u001b[0m \u001b[0;34m\u001b[0m\u001b[0m\n\u001b[0;32m---> 48\u001b[0;31m \u001b[0mcoor\u001b[0m \u001b[0;34m=\u001b[0m \u001b[0mtuple\u001b[0m\u001b[0;34m(\u001b[0m\u001b[0mint\u001b[0m\u001b[0;34m(\u001b[0m\u001b[0mco\u001b[0m\u001b[0;34m)\u001b[0m\u001b[0;34m-\u001b[0m\u001b[0;36m1\u001b[0m \u001b[0;32mfor\u001b[0m \u001b[0mco\u001b[0m \u001b[0;32min\u001b[0m \u001b[0mcoor\u001b[0m\u001b[0;34m.\u001b[0m\u001b[0msplit\u001b[0m\u001b[0;34m(\u001b[0m\u001b[0;34m\",\"\u001b[0m\u001b[0;34m)\u001b[0m\u001b[0;34m)\u001b[0m\u001b[0;34m\u001b[0m\u001b[0;34m\u001b[0m\u001b[0m\n\u001b[0m\u001b[1;32m     49\u001b[0m \u001b[0;34m\u001b[0m\u001b[0m\n\u001b[1;32m     50\u001b[0m \u001b[0;31m# Actualizar tablero\u001b[0m\u001b[0;34m\u001b[0m\u001b[0;34m\u001b[0m\u001b[0m\n",
      "\u001b[0;31mAttributeError\u001b[0m: 'tuple' object has no attribute 'split'"
     ]
    }
   ],
   "source": [
    "# Variables predefinidas\n",
    "\n",
    "mensajebienvenida = \"-- Comenzamos el juego --\"\n",
    "mensajeintroduccion = \"Introduce tu caracter (x/o) y la posición de la fila y la columna separados por coma\"\n",
    "mensajeinput = \"La usuaria dio el input\"\n",
    "mensajefinalización = \"-- Se ha terminado el juego--\"\n",
    "\n",
    "# Definir el tablero con todo \"-\"\n",
    "\n",
    "tablero = [[\"-\", \"-\",\"-\"],\n",
    "           [\"-\", \"-\", \"-\"],\n",
    "           [\"-\", \"-\", \"-\"]]\n",
    "\n",
    "fila1 = \"|\".join(tablero[0])\n",
    "fila2 = \"|\".join(tablero[1])\n",
    "fila3 = \"|\".join(tablero[2])\n",
    "\n",
    "# Inicio del juego\n",
    "\n",
    "print(mensajebienvenida)\n",
    "\n",
    "# Imprimir tablero\n",
    "\n",
    "print(fila1)\n",
    "print(fila2)\n",
    "print(fila3)\n",
    "\n",
    "# Input de la usuaria\n",
    "\n",
    "print(mensajeintroduccion)\n",
    "\n",
    "jugada1 = input(\"Introduce tu caracter (x/o) y la posición de la fila y la columna separados por coma\")\n",
    "print(mensajeinput, jugada1)\n",
    "\n",
    "jugadaformateada1 = jugada1.split(\" \")\n",
    "\n",
    "coor = str(jugadaformateada1[1])\n",
    "\n",
    "coor = tuple(int(num)-1 for num in coor.split(\",\"))\n",
    "\n",
    "# Actualizar tablero\n",
    "\n",
    "# Imprimir tablero\n",
    "\n",
    "# Input del usuario\n",
    "\n",
    "\n",
    "coor = tuple(int(co)-1 for co in coor.split(\",\"))\n",
    "\n",
    "# Actualizar tablero\n",
    "\n",
    "# Imprimir tablero\n",
    "\n",
    "# Convertir los caracteres del board a una sola lista\n",
    "board_list = sum(board,[])\n",
    "\n",
    "# Sacar los elementos únicos que no sean \"-\"\n",
    "\n",
    "# Final del juego"
   ]
  },
  {
   "cell_type": "code",
   "execution_count": null,
   "metadata": {},
   "outputs": [],
   "source": []
  },
  {
   "cell_type": "code",
   "execution_count": 16,
   "metadata": {},
   "outputs": [
    {
     "data": {
      "text/plain": [
       "[5, 6, 7]"
      ]
     },
     "execution_count": 16,
     "metadata": {},
     "output_type": "execute_result"
    }
   ],
   "source": [
    "lista = [5, 6, 7]\n",
    "lista[0:3]"
   ]
  }
 ],
 "metadata": {
  "kernelspec": {
   "display_name": "Python 3.9.7 ('base')",
   "language": "python",
   "name": "python3"
  },
  "language_info": {
   "codemirror_mode": {
    "name": "ipython",
    "version": 3
   },
   "file_extension": ".py",
   "mimetype": "text/x-python",
   "name": "python",
   "nbconvert_exporter": "python",
   "pygments_lexer": "ipython3",
   "version": "3.9.7"
  },
  "orig_nbformat": 4,
  "vscode": {
   "interpreter": {
    "hash": "fd3399778ecca89ccfd38c8963bbc048ff3198ccc7f9219d1f9dd0c6b6412bb5"
   }
  }
 },
 "nbformat": 4,
 "nbformat_minor": 2
}

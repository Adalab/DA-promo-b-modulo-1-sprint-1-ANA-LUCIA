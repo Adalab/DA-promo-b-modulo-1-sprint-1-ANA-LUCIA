{
 "cells": [
  {
   "cell_type": "code",
   "execution_count": 2,
   "metadata": {},
   "outputs": [
    {
     "name": "stdout",
     "output_type": "stream",
     "text": [
      "Nota = E\n"
     ]
    }
   ],
   "source": [
    "## Ejercicio 1:\n",
    "\n",
    "nota_numerica = int(input(\"Ingresa la nota\"))\n",
    "\n",
    "if nota_numerica  <= 25:\n",
    "    print(\"Nota = F\")\n",
    "elif 25 < nota_numerica <= 45:\n",
    "    print(\"Nota = E\")\n",
    "elif 45 < nota_numerica <= 50:\n",
    "    print(\"Nota = D\")\n",
    "elif 50 < nota_numerica <= 60:\n",
    "    print(\"Nota = C\")\n",
    "elif 60 < nota_numerica <= 80:\n",
    "    print(\"Nota = B\")\n",
    "else:\n",
    "    print(\"Nota = A\") \n"
   ]
  },
  {
   "cell_type": "code",
   "execution_count": 8,
   "metadata": {},
   "outputs": [
    {
     "name": "stdout",
     "output_type": "stream",
     "text": [
      "Edad1: Eres el más viejo\n",
      "Edad3: Eres el más pequeño\n"
     ]
    }
   ],
   "source": [
    "## Ejercicio 2:\n",
    "\n",
    "edad1 = input(\"edad1\")\n",
    "edad2 = input(\"edad2\")\n",
    "edad3 = input(\"edad3\")\n",
    "\n",
    "if edad1 > edad2 and edad1 > edad3:\n",
    "    print(\"Edad1: Eres el más viejo\")\n",
    "    if edad2 > edad3:\n",
    "        print(\"Edad3: Eres el más pequeño\")\n",
    "    else:\n",
    "        print(\"Edad2: Eres el más pequeño\")\n",
    "\n",
    "elif edad2 >  edad1 and edad2 > edad3:\n",
    "    print(\"Edad2: Eres el más viejo\")\n",
    "    if edad1 > edad3:\n",
    "        print(\"Edad3: Eres el más pequeño\")\n",
    "    else:\n",
    "        print(\"Edad1: eres el más pequeño\")   \n",
    "\n",
    "elif edad3 >  edad1 and edad3 > edad2:\n",
    "    print(\"Edad3: Eres el más viejo\")\n",
    "    if edad1 > edad2:\n",
    "        print(\"Edad2: Eres el más pequeño\")\n",
    "    else:\n",
    "        print(\"Edad1: eres el más pequeño\") \n",
    "\n",
    "\n",
    "\n"
   ]
  },
  {
   "cell_type": "code",
   "execution_count": 10,
   "metadata": {},
   "outputs": [
    {
     "name": "stdout",
     "output_type": "stream",
     "text": [
      "Bienvenido a bordo de 007\n"
     ]
    }
   ],
   "source": [
    "## Ejercicio 3:\n",
    "\n",
    "nombre_usuario = input(\"Nombre\")\n",
    "\n",
    "if nombre_usuario == \"Bond\":\n",
    "    print(\"Bienvenido a bordo de 007\")\n",
    "else:\n",
    "    print(\"Buenos días\", nombre_usuario)"
   ]
  },
  {
   "cell_type": "code",
   "execution_count": 7,
   "metadata": {},
   "outputs": [
    {
     "name": "stdout",
     "output_type": "stream",
     "text": [
      "['Taiwan', 'Japan', 'Russia', 'Canada', 'Bulgaria']\n"
     ]
    }
   ],
   "source": [
    "## Ejercicio 4:\n",
    "\n",
    "tree = {\"Taiwan\": 69593, \n",
    "        \"Japan\": 49894,\n",
    "        \"Russia\": 41396,\n",
    "        \"Canada\": 36388, \n",
    "        \"Bulgaria\": 24987,\n",
    "        }\n",
    "\n",
    "masa_arboles = []\n",
    "\n",
    "if tree[\"Taiwan\"] > 20000:\n",
    "        masa_arboles.append(\"Taiwan\")\n",
    "if tree[\"Japan\"] > 20000:\n",
    "        masa_arboles.append(\"Japan\")\n",
    "if tree[\"Russia\"] > 20000:\n",
    "        masa_arboles.append(\"Russia\")\n",
    "if tree[\"Canada\"] > 20000:\n",
    "        masa_arboles.append(\"Canada\")\n",
    "if tree[\"Bulgaria\"] > 20000:\n",
    "        masa_arboles.append(\"Bulgaria\")\n",
    "\n",
    "\n",
    "print(masa_arboles)"
   ]
  },
  {
   "cell_type": "code",
   "execution_count": 23,
   "metadata": {},
   "outputs": [
    {
     "name": "stdout",
     "output_type": "stream",
     "text": [
      "Estás en grupo A\n"
     ]
    }
   ],
   "source": [
    "## Ejercicio 5:\n",
    "nombre_sexo = input(\"nombre y sexo\")\n",
    "\n",
    "nombre_sexo = nombre_sexo.split()\n",
    "\n",
    "nombre = nombre_sexo[0][0]\n",
    "\n",
    "sexo = nombre_sexo[1]\n",
    "\n",
    "a_m = {\"a\", \"b\", \"c\", \"d\", \"e\", \"f\", \"g\", \"h\", \"i\", \"j\", \"k\", \"l\", \"m\"}\n",
    "n_z = {\"n\", \"ñ\", \"o\", \"p\", \"q\", \"r\", \"s\", \"t\", \"u\", \"v\", \"w\", \"x\", \"y\", \"z\"}\n",
    "\n",
    "if nombre in a_m:\n",
    "    if sexo == \"mujer\":\n",
    "        print(\"Estás en grupo A\")\n",
    "    else:\n",
    "        print(\"Estás en grupo B\")\n",
    "elif nombre in n_z:\n",
    "    if sexo == \"mujer\":\n",
    "        print(\"Estás en grupo B\")\n",
    "    else:\n",
    "        print(\"Estás en grupo A\")\n",
    "        "
   ]
  },
  {
   "cell_type": "code",
   "execution_count": 26,
   "metadata": {},
   "outputs": [
    {
     "name": "stdout",
     "output_type": "stream",
     "text": [
      "0\n",
      "1\n",
      "2\n",
      "3\n"
     ]
    }
   ],
   "source": [
    "## Ejercicio 6:\n",
    "\n",
    "z = 0\n",
    "lista = []\n",
    "\n",
    "while z < 3:\n",
    "    if z == 0:\n",
    "        print(z)\n",
    "        lista.append(z)\n",
    "        z += 1\n",
    "    elif z == 1:\n",
    "        print(z)\n",
    "        lista.append(z)\n",
    "        z += 1\n",
    "    else:\n",
    "        print(z)\n",
    "        z += 1\n",
    "        "
   ]
  },
  {
   "cell_type": "code",
   "execution_count": 27,
   "metadata": {},
   "outputs": [
    {
     "name": "stdout",
     "output_type": "stream",
     "text": [
      "[0, 1, 2, 3]\n"
     ]
    }
   ],
   "source": [
    "## Ejercicio 7:\n",
    "\n",
    "lista1 = []\n",
    "variable = 0\n",
    "\n",
    "while len(lista1) < 4:\n",
    "    lista1.append(variable)\n",
    "    variable += 1\n",
    "\n",
    "print(lista1)"
   ]
  },
  {
   "cell_type": "code",
   "execution_count": 9,
   "metadata": {},
   "outputs": [
    {
     "name": "stdout",
     "output_type": "stream",
     "text": [
      "115\n"
     ]
    }
   ],
   "source": [
    "## Ejercicios 8:\n",
    "\n",
    "i = 0\n",
    "numeros = [23, 45, 12, 10, 25]\n",
    "suma = 0\n",
    "\n",
    "while i < len(numeros):\n",
    "    suma = numeros[0] + numeros[1]\n",
    "    suma = suma + numeros[2]\n",
    "    suma = suma + numeros[3]\n",
    "    suma = suma + numeros[4]\n",
    "    i += 1\n",
    "\n",
    "print(suma)"
   ]
  }
 ],
 "metadata": {
  "kernelspec": {
   "display_name": "Python 3.9.7 ('base')",
   "language": "python",
   "name": "python3"
  },
  "language_info": {
   "codemirror_mode": {
    "name": "ipython",
    "version": 3
   },
   "file_extension": ".py",
   "mimetype": "text/x-python",
   "name": "python",
   "nbconvert_exporter": "python",
   "pygments_lexer": "ipython3",
   "version": "3.9.7"
  },
  "orig_nbformat": 4,
  "vscode": {
   "interpreter": {
    "hash": "27c7e03acb1b122aa51a4d19f361f8e7d3205f0602534c325e31713df737767e"
   }
  }
 },
 "nbformat": 4,
 "nbformat_minor": 2
}

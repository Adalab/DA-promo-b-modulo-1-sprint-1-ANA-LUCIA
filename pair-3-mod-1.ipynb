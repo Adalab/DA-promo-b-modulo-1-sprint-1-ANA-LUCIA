{
 "cells": [
  {
   "cell_type": "code",
   "execution_count": 23,
   "metadata": {},
   "outputs": [
    {
     "name": "stdout",
     "output_type": "stream",
     "text": [
      "-- ¡Comenzamos el juego! --\n",
      "Tiene 15 elementos entre 1 y 19\n",
      "Tu número es  10\n",
      "Adivinaste el número?\n",
      "True\n",
      "La lista facilitada por el usuario es: [6, 5, 2, 12, 17, 4, 14, 11, 19, 10, 13, 15, 1, 7, 8]\n",
      "Estaba en el sitio 10 , índice 9.\n"
     ]
    }
   ],
   "source": [
    "import random\n",
    "\n",
    "# Variables numéricas\n",
    "index = -1\n",
    "\n",
    "lim_inferior = 1\n",
    "lim_superior = 20\n",
    "longitud_lista = 15\n",
    "\n",
    "# Cantidades calculadas\n",
    "num_list = random.sample(range(lim_inferior, lim_superior), longitud_lista)\n",
    "\n",
    "# Inicio del juego\n",
    "\n",
    "bienvenida = \"-- ¡Comenzamos el juego! --\"\n",
    "print(bienvenida)\n",
    "\n",
    "# User input\n",
    "\n",
    "intento = input(\"Tu número\")\n",
    "\n",
    "\n",
    "# Desarrollo del juego\n",
    "\n",
    "print(\"Tiene\", len(num_list), \"elementos entre\", min(num_list), \"y\", max(num_list))\n",
    "\n",
    "print(\"Tu número es \", intento)\n",
    "\n",
    "# Han adivinado un elemento?\n",
    "\n",
    "print(\"Adivinaste el número?\")\n",
    "intento = int(intento)\n",
    "bool_intento = intento in num_list\n",
    "print(bool_intento)\n",
    "print(\"La lista facilitada por el usuario es:\", num_list)\n",
    "\n",
    "try: \n",
    "    indice = num_list.index(intento)\n",
    "    indice_humano = indice + 1\n",
    "\n",
    "except: \n",
    "    print(\"Intentalo de nuevo\")\n",
    "\n",
    "\n",
    "# Si adivinaron uno, dónde estaba?\n",
    "if num_list.count(intento):\n",
    "     index = indice\n",
    "else:\n",
    "    \n",
    "    print(\"El numero \", intento, \"no esta en la lista, intentalo de nuevo\")\n",
    "\n",
    "if index >= 0: print(\"Estaba en el sitio\", indice_humano, \", índice\", str(index)+\".\")\n",
    "\n",
    "# Fin del juego\n",
    "\n",
    "print(\"Terminamos el juego\")\n"
   ]
  },
  {
   "cell_type": "code",
   "execution_count": null,
   "metadata": {},
   "outputs": [],
   "source": []
  }
 ],
 "metadata": {
  "kernelspec": {
   "display_name": "Python 3.9.7 ('base')",
   "language": "python",
   "name": "python3"
  },
  "language_info": {
   "codemirror_mode": {
    "name": "ipython",
    "version": 3
   },
   "file_extension": ".py",
   "mimetype": "text/x-python",
   "name": "python",
   "nbconvert_exporter": "python",
   "pygments_lexer": "ipython3",
   "version": "3.9.7"
  },
  "orig_nbformat": 4,
  "vscode": {
   "interpreter": {
    "hash": "27c7e03acb1b122aa51a4d19f361f8e7d3205f0602534c325e31713df737767e"
   }
  }
 },
 "nbformat": 4,
 "nbformat_minor": 2
}

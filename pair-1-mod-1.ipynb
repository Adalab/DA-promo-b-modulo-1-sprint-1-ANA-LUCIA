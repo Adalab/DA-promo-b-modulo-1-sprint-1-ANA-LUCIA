{
 "cells": [
  {
   "cell_type": "code",
   "execution_count": 1,
   "metadata": {},
   "outputs": [
    {
     "name": "stdout",
     "output_type": "stream",
     "text": [
      "¡Comenzamos el juego!\n",
      "Tienes 2 intentos para adivinar el número entre 3 y 6.\n",
      "Intento 1: 4\n",
      "Intento 2: 5\n",
      "Terminamos el juego. El número era 4 ¿lo adivinaste?\n"
     ]
    }
   ],
   "source": [
    "import math\n",
    "import random\n",
    "\n",
    "# Variables numéricas\n",
    "lim_superior = 6\n",
    "lim_inferior = 3\n",
    "\n",
    "\n",
    "# Cantidades calculadas\n",
    "intentos_permitidos = round(math.log(lim_superior - lim_inferior + 1,2))\n",
    "numero_secreto = random.randint(lim_inferior,lim_superior)\n",
    "\n",
    "# Inicio del juego\n",
    "bienvenida = \"¡Comenzamos el juego!\"\n",
    "print(bienvenida)\n",
    "adivinar = \"Tienes 2 intentos para adivinar el número entre 3 y 6.\"\n",
    "print(adivinar)\n",
    "\n",
    "# User input\n",
    "número1 = input(\"Primer intento\")\n",
    "\n",
    "\n",
    "# Adivinar 1 intento\n",
    "intento1 = \"Intento 1: \" + número1\n",
    "print(intento1)\n",
    "\n",
    "número2 = input(\"Segundo intento\")\n",
    "\n",
    "# Adivinar 2 intento\n",
    "\n",
    "intento2 = \"Intento 2: \" + número2\n",
    "print(intento2)\n",
    "\n",
    "# Fin del juego\n",
    "fin_juego = \"Terminamos el juego. El número era \" + str(numero_secreto) + \" ¿lo adivinaste?\"\n",
    "print(fin_juego)"
   ]
  }
 ],
 "metadata": {
  "kernelspec": {
   "display_name": "Python 3.9.7 ('base')",
   "language": "python",
   "name": "python3"
  },
  "language_info": {
   "codemirror_mode": {
    "name": "ipython",
    "version": 3
   },
   "file_extension": ".py",
   "mimetype": "text/x-python",
   "name": "python",
   "nbconvert_exporter": "python",
   "pygments_lexer": "ipython3",
   "version": "3.9.7"
  },
  "orig_nbformat": 4,
  "vscode": {
   "interpreter": {
    "hash": "27c7e03acb1b122aa51a4d19f361f8e7d3205f0602534c325e31713df737767e"
   }
  }
 },
 "nbformat": 4,
 "nbformat_minor": 2
}

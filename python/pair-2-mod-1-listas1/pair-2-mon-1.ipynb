{
 "cells": [
  {
   "cell_type": "code",
   "execution_count": 14,
   "metadata": {},
   "outputs": [
    {
     "name": "stdout",
     "output_type": "stream",
     "text": [
      "-- ¡Comenzamos el juego! --\n",
      "La lista facilitada por el usuario es: [2, 3]\n",
      "Tiene 2 elementos entre 2 y 3\n",
      "¿Han adivinado el número secreto?\n",
      "False\n",
      "-- Terminamos el juego. El número secreto era 10 --\n"
     ]
    }
   ],
   "source": [
    "import random\n",
    "\n",
    "# Variables numéricas\n",
    "\n",
    "lim_inferior = 1\n",
    "lim_superior = 40\n",
    "\n",
    "bienvenida = \"-- ¡Comenzamos el juego! --\"\n",
    "print(bienvenida)\n",
    "\n",
    "# Cadenas fijas de texto\n",
    "str_input = \"Lista de números, separado por espacios: \"\n",
    "\n",
    "# Cantidades calculadas\n",
    "numero_secreto = random.randint(lim_inferior,lim_superior)\n",
    "\n",
    "\n",
    "# User input\n",
    "num_list = list(int(num) for num in input(str_input).strip().split())\n",
    "\n",
    "\n",
    "print(\"La lista facilitada por el usuario es:\", num_list)\n",
    "print(\"Tiene\", len(num_list), \"elementos entre\", min(num_list), \"y\", max(num_list))\n",
    "\n",
    "# Han adivinado el número secreto?\n",
    "\n",
    "print(\"¿Han adivinado el número secreto?\")\n",
    "\n",
    "bool_numerosecreto = numero_secreto in num_list\n",
    "print(bool_numerosecreto)\n",
    "\n",
    "# Fin del juego\n",
    "\n",
    "print(\"-- Terminamos el juego. El número secreto era\", numero_secreto, \"--\")\n",
    "\n",
    "\n",
    "\n",
    "\n",
    "\n",
    "\n"
   ]
  },
  {
   "cell_type": "code",
   "execution_count": 12,
   "metadata": {},
   "outputs": [
    {
     "name": "stdout",
     "output_type": "stream",
     "text": [
      "False\n"
     ]
    }
   ],
   "source": [
    "bool = numero_secreto in num_list\n",
    "print(bool)"
   ]
  }
 ],
 "metadata": {
  "kernelspec": {
   "display_name": "Python 3.9.7 ('base')",
   "language": "python",
   "name": "python3"
  },
  "language_info": {
   "codemirror_mode": {
    "name": "ipython",
    "version": 3
   },
   "file_extension": ".py",
   "mimetype": "text/x-python",
   "name": "python",
   "nbconvert_exporter": "python",
   "pygments_lexer": "ipython3",
   "version": "3.9.7"
  },
  "orig_nbformat": 4,
  "vscode": {
   "interpreter": {
    "hash": "fd3399778ecca89ccfd38c8963bbc048ff3198ccc7f9219d1f9dd0c6b6412bb5"
   }
  }
 },
 "nbformat": 4,
 "nbformat_minor": 2
}

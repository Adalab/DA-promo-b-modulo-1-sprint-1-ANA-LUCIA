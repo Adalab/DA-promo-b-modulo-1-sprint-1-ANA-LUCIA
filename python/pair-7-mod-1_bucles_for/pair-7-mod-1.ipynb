{
 "cells": [
  {
   "cell_type": "code",
   "execution_count": 10,
   "metadata": {},
   "outputs": [
    {
     "name": "stdout",
     "output_type": "stream",
     "text": [
      "['10000', ' 3.5', ' 5']\n",
      "Este es tu capital en el 10350.0\n",
      "Este es tu capital en el 10712.25\n",
      "Este es tu capital en el 11087.17875\n",
      "Este es tu capital en el 11475.23000625\n",
      "Este es tu capital en el 11876.86305646875\n"
     ]
    }
   ],
   "source": [
    "# Ejercicio 1\n",
    "\n",
    "datos_inversion = input(\"cantidad a invertir, interés anual, número de años\")\n",
    "\n",
    "datos_inversion = datos_inversion.split(\",\")\n",
    "\n",
    "print(datos_inversion)\n",
    "\n",
    "#calculamos el rango de años\n",
    "\n",
    "range(int(datos_inversion[2]))\n",
    "\n",
    "#calculamos la iteración por cada año\n",
    "\n",
    "for i in range(int(datos_inversion[2])):\n",
    "    \n",
    "    if i < int(datos_inversion[2]):\n",
    "        año1 = ((float(datos_inversion[0]) * float(datos_inversion[1])/100) + float(datos_inversion[0])) \n",
    "        (datos_inversion[0]) = año1\n",
    "        print(\"Este es tu capital en el\", año1)     \n",
    "    else:\n",
    "        print(\"ahorra más\")\n",
    "\n",
    "\n"
   ]
  },
  {
   "cell_type": "code",
   "execution_count": 8,
   "metadata": {},
   "outputs": [
    {
     "name": "stdout",
     "output_type": "stream",
     "text": [
      "['hola', 'a']\n",
      "La cantidad de veces que está repetida a en tu frase es: 1\n"
     ]
    }
   ],
   "source": [
    "#Ejercicio 2\n",
    "\n",
    "preguntausuario = input(\"escribe una frase y una letra separadas por ,\")\n",
    "\n",
    "preguntausuario = preguntausuario.split(\",\")\n",
    "\n",
    "print(preguntausuario)\n",
    "\n",
    "letra = (preguntausuario[1])\n",
    "oracion = preguntausuario[0]\n",
    "\n",
    "cantidad_de_letras = 0\n",
    "\n",
    "for i in oracion:\n",
    "        if i == letra:\n",
    "            cantidad_de_letras += 1\n",
    "\n",
    "print(\"La cantidad de veces que está repetida\", letra, \"en tu frase es:\", cantidad_de_letras)\n",
    "    \n"
   ]
  },
  {
   "cell_type": "code",
   "execution_count": 6,
   "metadata": {},
   "outputs": [
    {
     "name": "stdout",
     "output_type": "stream",
     "text": [
      "5 * 1 = 5\n",
      "5 * 2 = 10\n",
      "5 * 3 = 15\n",
      "5 * 4 = 20\n",
      "5 * 5 = 25\n",
      "5 * 6 = 30\n",
      "5 * 7 = 35\n",
      "5 * 8 = 40\n",
      "5 * 9 = 45\n",
      "5 * 10 = 50\n",
      "Esta es la tabla del 5 : [5, 10, 15, 20, 25, 30, 35, 40, 45, 50]\n"
     ]
    }
   ],
   "source": [
    "#Ejercicio 3\n",
    "\n",
    "\n",
    "numero = input(\"Escoge un número\")\n",
    "numero = int(numero)\n",
    "\n",
    "tabla = [1, 2, 3, 4, 5, 6, 7, 8, 9, 10]\n",
    "resultado = []\n",
    "\n",
    "for i in tabla:\n",
    "    factor = numero * i\n",
    "    print(numero, \"*\",i, \"=\", factor)\n",
    "    resultado.append(factor)\n",
    "\n",
    "print(\"Esta es la tabla del\", numero, \":\", resultado)"
   ]
  },
  {
   "cell_type": "code",
   "execution_count": 2,
   "metadata": {},
   "outputs": [
    {
     "name": "stdout",
     "output_type": "stream",
     "text": [
      "[75, 150, 145]\n"
     ]
    }
   ],
   "source": [
    "# Ejercicio 4\n",
    "\n",
    "numbers = [12, 75, 150, 180, 145, 525, 50]\n",
    "\n",
    "lista_resultado = []\n",
    "\n",
    "for i in numbers:\n",
    "    \n",
    "    if i > 500:\n",
    "        break\n",
    "    if i%5 == 0:   \n",
    "       if i > 150:  \n",
    "           pass\n",
    "       else: \n",
    "           lista_resultado.append(i)     \n",
    "\n",
    "print(lista_resultado)"
   ]
  },
  {
   "cell_type": "code",
   "execution_count": 11,
   "metadata": {},
   "outputs": [
    {
     "name": "stdout",
     "output_type": "stream",
     "text": [
      "50\n",
      "40\n",
      "30\n",
      "20\n",
      "10\n"
     ]
    }
   ],
   "source": [
    "#Ejercicio 5\n",
    "\n",
    "list1 = [10, 20, 30, 40, 50]\n",
    "\n",
    "list1.reverse()\n",
    "\n",
    "for i in list1:\n",
    "    print(i)"
   ]
  },
  {
   "cell_type": "code",
   "execution_count": 8,
   "metadata": {},
   "outputs": [
    {
     "name": "stdout",
     "output_type": "stream",
     "text": [
      "1\n",
      "4\n",
      "9\n"
     ]
    }
   ],
   "source": [
    "#Ejercicio 6\n",
    "\n",
    "for i in ['1','2','3']:\n",
    "    try:\n",
    "        print (i**2)\n",
    "        \n",
    "    except:\n",
    "        print(int(i)**2)  "
   ]
  }
 ],
 "metadata": {
  "kernelspec": {
   "display_name": "Python 3.9.7 ('base')",
   "language": "python",
   "name": "python3"
  },
  "language_info": {
   "codemirror_mode": {
    "name": "ipython",
    "version": 3
   },
   "file_extension": ".py",
   "mimetype": "text/x-python",
   "name": "python",
   "nbconvert_exporter": "python",
   "pygments_lexer": "ipython3",
   "version": "3.9.7"
  },
  "orig_nbformat": 4,
  "vscode": {
   "interpreter": {
    "hash": "fd3399778ecca89ccfd38c8963bbc048ff3198ccc7f9219d1f9dd0c6b6412bb5"
   }
  }
 },
 "nbformat": 4,
 "nbformat_minor": 2
}
